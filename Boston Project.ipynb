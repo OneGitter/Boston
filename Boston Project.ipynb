{
 "cells": [
  {
   "cell_type": "code",
   "execution_count": 1,
   "id": "2615b90c",
   "metadata": {},
   "outputs": [],
   "source": [
    "# Importing all libraries\n",
    "\n",
    "import numpy as np\n",
    "import pandas as pd\n",
    "import matplotlib.pyplot as plt\n",
    "from sklearn import preprocessing"
   ]
  },
  {
   "cell_type": "code",
   "execution_count": 2,
   "id": "8897c6f5",
   "metadata": {
    "scrolled": true
   },
   "outputs": [
    {
     "data": {
      "text/plain": [
       "(379, 13)"
      ]
     },
     "execution_count": 2,
     "metadata": {},
     "output_type": "execute_result"
    }
   ],
   "source": [
    "# Loading the data from the local file boston_train\n",
    "\n",
    "train = np.loadtxt(\"./boston_train.csv\",delimiter=\",\")\n",
    "x = train[:,:-1]\n",
    "y = train[:,-1]\n",
    "x.shape"
   ]
  },
  {
   "cell_type": "code",
   "execution_count": 3,
   "id": "07b38a03",
   "metadata": {},
   "outputs": [],
   "source": [
    "# Initializing scaling object\n",
    "\n",
    "min_max_scaler_object = preprocessing.MinMaxScaler()"
   ]
  },
  {
   "cell_type": "code",
   "execution_count": 4,
   "id": "0adf1b19",
   "metadata": {},
   "outputs": [],
   "source": [
    "min_max_scaler_object.fit(x)\n",
    "x = min_max_scaler_object.transform(x)"
   ]
  },
  {
   "cell_type": "code",
   "execution_count": 5,
   "id": "e102f90e",
   "metadata": {},
   "outputs": [],
   "source": [
    "def predict(x,w,b):\n",
    "    return np.dot(x,w) + b"
   ]
  },
  {
   "cell_type": "code",
   "execution_count": 6,
   "id": "fcb71761",
   "metadata": {},
   "outputs": [],
   "source": [
    "def cost(x,w,b,y):\n",
    "    return np.sum((y-(np.dot(x,w) + b))**2)/len(x)"
   ]
  },
  {
   "cell_type": "code",
   "execution_count": 7,
   "id": "854e8f71",
   "metadata": {},
   "outputs": [],
   "source": [
    "def substep_gd(learning_rate,x,y,w,b):\n",
    "    y_hat = predict(x,w,b)\n",
    "    w = w + x*(learning_rate*(y-y_hat))\n",
    "    b = b + learning_rate*(y-y_hat)\n",
    "    return w,b"
   ]
  },
  {
   "cell_type": "code",
   "execution_count": 8,
   "id": "2886b1e6",
   "metadata": {},
   "outputs": [],
   "source": [
    "def step_gd(learning_rate,x,y,w,b):\n",
    "    for i in range(len(x)):\n",
    "        w,b = substep_gd(learning_rate,x[i],y[i],w,b)\n",
    "    return w,b"
   ]
  },
  {
   "cell_type": "code",
   "execution_count": 9,
   "id": "aa4300c4",
   "metadata": {},
   "outputs": [],
   "source": [
    "def gd(learning_rate,num_iteration,x,y):\n",
    "    w = np.ones(len(x[0]))\n",
    "    b = 1\n",
    "    co = np.array([])\n",
    "    iteration = np.array([])\n",
    "    for i in range(num_iteration):\n",
    "        w,b = step_gd(learning_rate,x,y,w,b)\n",
    "        c = cost(x,w,b,y)\n",
    "        co = np.append(co,c)\n",
    "        iteration =  np.append(iteration,i)\n",
    "    return w,b,co,iteration"
   ]
  },
  {
   "cell_type": "code",
   "execution_count": 10,
   "id": "8222ef1f",
   "metadata": {},
   "outputs": [],
   "source": [
    "def run():\n",
    "    learning_rate = 0.001\n",
    "    num_iteration = 720\n",
    "    w,b,co,iteration = gd(learning_rate,num_iteration,x,y)\n",
    "    return w,b,co,iteration"
   ]
  },
  {
   "cell_type": "code",
   "execution_count": 11,
   "id": "9812598b",
   "metadata": {},
   "outputs": [],
   "source": [
    "# Loading test data\n",
    "\n",
    "test = np.loadtxt(\"boston_test.csv\",delimiter=\",\")\n",
    "test = min_max_scaler_object.transform(test)"
   ]
  },
  {
   "cell_type": "code",
   "execution_count": 12,
   "id": "ce69f1b8",
   "metadata": {},
   "outputs": [],
   "source": [
    "# Running the gradient algorithm and predicting results\n",
    "w,b,cost,iteration = run()\n",
    "test_results = predict(test,w,b)"
   ]
  },
  {
   "cell_type": "code",
   "execution_count": 13,
   "id": "b102225a",
   "metadata": {},
   "outputs": [],
   "source": [
    "# Saving the results in diabetes_results file\n",
    "\n",
    "np.savetxt(\"boston_results.csv\",test_results,delimiter=\",\",fmt='%1.5f')"
   ]
  },
  {
   "cell_type": "code",
   "execution_count": 14,
   "id": "9043644d",
   "metadata": {},
   "outputs": [
    {
     "data": {
      "text/plain": [
       "array([11.66744602, 29.29823325, 22.23668134, 24.27395642, 20.39907661,\n",
       "        2.8800143 , 29.46821953, 24.18397928, 18.53014688, 22.90684006,\n",
       "       24.29849241, 18.01147846, 18.40351257, 21.81226489, 43.45304703,\n",
       "       23.62090115, 24.21572008, 27.01882718, 20.00679751, 31.18222057,\n",
       "       23.46604605, 24.53865635, 33.85495138, 35.67994682, 32.02764799,\n",
       "       16.10100674, 22.311972  , 31.93168603, 24.89054703, 33.53932772,\n",
       "       17.27821247, 25.57933369, 23.53736876, 25.6770843 , 15.79376836,\n",
       "       28.8708216 , 25.87238604, 20.2555316 , 24.51363854,  9.65784431,\n",
       "        7.22669662, 28.42155242, 29.09913524, 20.49775087, 20.66599348,\n",
       "        2.42232404, 40.41458923, 25.96922813, 30.87201823, 17.61932145,\n",
       "       18.03183008, 40.42387901, 18.42166956, 20.26364658, 16.113841  ,\n",
       "       21.33138004, 18.43200243, 22.56907208, 13.7313373 , 17.82964126,\n",
       "       15.03175456, 29.18150697, 24.53825645, 25.54308534, 17.16279532,\n",
       "       16.09299409, 34.42711653, 17.52503044, 26.54826751, 22.72418174,\n",
       "       28.68839224, 26.7050288 , 17.91231686,  5.58021793, 36.55205237,\n",
       "       24.98093688, 29.26939201, 26.56721473, 16.71026374, 32.48730463,\n",
       "       19.75444387, 22.68393436, 21.85718393,  8.95160495, 17.75474414,\n",
       "       29.7569531 , 27.53302374,  5.68330012, 21.74702909, 20.31459956,\n",
       "       21.82413363, 20.3562266 , 20.66974582, 13.11363584, 19.77603605,\n",
       "       26.76963878, 39.99281121, 19.69036823, 33.11343929, 26.87784561,\n",
       "       27.15165231, 22.48198561, 25.26192246, 30.53502833, 17.15741065,\n",
       "       25.66698704, 21.38029371, 36.65767337, 22.47616221, 16.63457338,\n",
       "       27.44713591, -0.71972767, 13.52154679, 15.29950785, 35.98757848,\n",
       "       20.08958865, 21.59555555, 25.09852341, 21.64378653, 18.87809392,\n",
       "       13.97876413, 34.6675807 , 22.64081887, 24.78817378, 18.41539442,\n",
       "       20.38424227, 14.2254491 ])"
      ]
     },
     "execution_count": 14,
     "metadata": {},
     "output_type": "execute_result"
    }
   ],
   "source": [
    "test_results"
   ]
  },
  {
   "cell_type": "code",
   "execution_count": 15,
   "id": "9157001f",
   "metadata": {},
   "outputs": [
    {
     "data": {
      "text/plain": [
       "array([ -7.31851898,   2.27531639,   0.50364973,   3.13583988,\n",
       "        -7.04140904,  21.39767683,   0.81860333, -11.30082908,\n",
       "         5.60511524,  -4.60749335,  -8.9342776 ,   3.45525064,\n",
       "       -19.93675964])"
      ]
     },
     "execution_count": 15,
     "metadata": {},
     "output_type": "execute_result"
    }
   ],
   "source": [
    "w"
   ]
  },
  {
   "cell_type": "code",
   "execution_count": 16,
   "id": "cf7f3ab6",
   "metadata": {},
   "outputs": [
    {
     "data": {
      "text/plain": [
       "(23.5, 24.0)"
      ]
     },
     "execution_count": 16,
     "metadata": {},
     "output_type": "execute_result"
    },
    {
     "data": {
      "image/png": "[encoded data removed]",
      "text/plain": [
       "<Figure size 432x288 with 1 Axes>"
      ]
     },
     "metadata": {
      "needs_background": "light"
     },
     "output_type": "display_data"
    }
   ],
   "source": [
    "plt.plot(iteration,cost)\n",
    "plt.ylim(23.5,24)"
   ]
  },
  {
   "cell_type": "code",
   "execution_count": 17,
   "id": "cbddea82",
   "metadata": {},
   "outputs": [
    {
     "data": {
      "text/plain": [
       "array([130.02747796, 104.77511046,  93.76187287,  85.53529564,\n",
       "        79.043275  ,  73.87053939,  69.71374234,  66.34008396,\n",
       "        63.5711214 ,  61.27025402,  59.33292402,  57.67906617,\n",
       "        56.24732696,  54.99064768,  53.8728915 ,  52.86626824,\n",
       "        51.94936824,  51.10566105,  50.32234913,  49.58949238,\n",
       "        48.89933947,  48.24581711,  47.62413976,  47.03051139,\n",
       "        46.46189754,  45.91585093,  45.39037812,  44.88383741,\n",
       "        44.39486067,  43.92229338,  43.46514865,  43.02257192,\n",
       "        42.59381379,  42.17820905,  41.77516054,  41.38412662,\n",
       "        41.00461145,  40.63615744,  40.27833924,  39.93075916,\n",
       "        39.59304341,  39.26483918,  38.94581224,  38.63564506,\n",
       "        38.33403517,  38.04069391,  37.7553453 ,  37.47772513,\n",
       "        37.20758013,  36.94466733,  36.6887534 ,  36.43961413,\n",
       "        36.19703394,  35.96080544,  35.73072904,  35.50661255,\n",
       "        35.28827087,  35.07552564,  34.86820497,  34.66614315,\n",
       "        34.46918038,  34.27716252,  34.08994087,  33.90737192,\n",
       "        33.72931718,  33.55564292,  33.38622004,  33.22092385,\n",
       "        33.0596339 ,  32.9022338 ,  32.74861111,  32.59865714,\n",
       "        32.45226682,  32.30933857,  32.16977415,  32.03347855,\n",
       "        31.90035987,  31.77032917,  31.6433004 ,  31.5191903 ,\n",
       "        31.39791823,  31.27940615,  31.16357849,  31.05036204,\n",
       "        30.93968593,  30.83148146,  30.7256821 ,  30.62222336,\n",
       "        30.52104275,  30.42207968,  30.32527541,  30.23057302,\n",
       "        30.13791726,  30.04725458,  29.95853302,  29.87170218,\n",
       "        29.78671315,  29.70351846,  29.62207206,  29.54232924,\n",
       "        29.46424658,  29.38778195,  29.31289443,  29.23954427,\n",
       "        29.16769287,  29.09730275,  29.02833746,  28.96076162,\n",
       "        28.89454083,  28.82964168,  28.76603167,  28.70367923,\n",
       "        28.64255366,  28.5826251 ,  28.52386454,  28.46624375,\n",
       "        28.40973528,  28.35431243,  28.29994923,  28.24662041,\n",
       "        28.19430139,  28.14296824,  28.09259767,  28.04316704,\n",
       "        27.9946543 ,  27.94703796,  27.90029715,  27.8544115 ,\n",
       "        27.80936121,  27.76512699,  27.72169005,  27.67903209,\n",
       "        27.6371353 ,  27.59598231,  27.55555621,  27.51584052,\n",
       "        27.4768192 ,  27.4384766 ,  27.40079747,  27.36376697,\n",
       "        27.32737061,  27.29159428,  27.25642423,  27.22184704,\n",
       "        27.18784964,  27.15441929,  27.12154356,  27.08921032,\n",
       "        27.05740777,  27.02612436,  26.99534886,  26.96507031,\n",
       "        26.935278  ,  26.90596151,  26.87711065,  26.8487155 ,\n",
       "        26.82076636,  26.79325377,  26.76616851,  26.73950158,\n",
       "        26.71324419,  26.68738775,  26.6619239 ,  26.63684447,\n",
       "        26.61214148,  26.58780714,  26.56383385,  26.54021418,\n",
       "        26.51694089,  26.49400689,  26.47140529,  26.44912932,\n",
       "        26.42717239,  26.40552807,  26.38419007,  26.36315225,\n",
       "        26.3424086 ,  26.32195327,  26.30178052,  26.28188476,\n",
       "        26.26226053,  26.24290249,  26.22380541,  26.2049642 ,\n",
       "        26.18637387,  26.16802954,  26.14992647,  26.13205999,\n",
       "        26.11442556,  26.09701873,  26.07983515,  26.06287058,\n",
       "        26.04612086,  26.02958193,  26.01324982,  25.99712064,\n",
       "        25.9811906 ,  25.96545599,  25.94991317,  25.9345586 ,\n",
       "        25.9193888 ,  25.90440037,  25.88958999,  25.87495441,\n",
       "        25.86049044,  25.84619499,  25.83206501,  25.81809752,\n",
       "        25.8042896 ,  25.79063841,  25.77714115,  25.7637951 ,\n",
       "        25.75059759,  25.73754601,  25.72463778,  25.71187042,\n",
       "        25.69924147,  25.68674853,  25.67438926,  25.66216135,\n",
       "        25.65006255,  25.63809066,  25.62624353,  25.61451904,\n",
       "        25.60291513,  25.59142976,  25.58006097,  25.56880679,\n",
       "        25.55766534,  25.54663475,  25.53571319,  25.52489888,\n",
       "        25.51419007,  25.50358504,  25.49308212,  25.48267965,\n",
       "        25.47237603,  25.46216968,  25.45205904,  25.44204261,\n",
       "        25.4321189 ,  25.42228644,  25.41254382,  25.40288963,\n",
       "        25.3933225 ,  25.3838411 ,  25.3744441 ,  25.3651302 ,\n",
       "        25.35589816,  25.34674672,  25.33767467,  25.32868082,\n",
       "        25.31976399,  25.31092305,  25.30215687,  25.29346434,\n",
       "        25.28484438,  25.27629594,  25.26781797,  25.25940945,\n",
       "        25.25106939,  25.24279681,  25.23459073,  25.22645022,\n",
       "        25.21837435,  25.21036221,  25.20241291,  25.19452557,\n",
       "        25.18669934,  25.17893337,  25.17122684,  25.16357893,\n",
       "        25.15598886,  25.14845583,  25.14097908,  25.13355786,\n",
       "        25.12619143,  25.11887906,  25.11162004,  25.10441367,\n",
       "        25.09725926,  25.09015615,  25.08310366,  25.07610115,\n",
       "        25.06914797,  25.06224351,  25.05538715,  25.04857828,\n",
       "        25.0418163 ,  25.03510064,  25.02843071,  25.02180596,\n",
       "        25.01522584,  25.00868979,  25.00219729,  24.99574781,\n",
       "        24.98934084,  24.98297586,  24.97665238,  24.97036991,\n",
       "        24.96412797,  24.95792609,  24.95176379,  24.94564063,\n",
       "        24.93955615,  24.93350992,  24.92750149,  24.92153045,\n",
       "        24.91559636,  24.90969883,  24.90383743,  24.89801178,\n",
       "        24.89222148,  24.88646614,  24.88074539,  24.87505884,\n",
       "        24.86940614,  24.86378692,  24.85820082,  24.8526475 ,\n",
       "        24.84712661,  24.84163781,  24.83618077,  24.83075516,\n",
       "        24.82536065,  24.81999693,  24.81466369,  24.80936062,\n",
       "        24.80408741,  24.79884376,  24.79362939,  24.788444  ,\n",
       "        24.7832873 ,  24.77815903,  24.77305889,  24.76798662,\n",
       "        24.76294196,  24.75792463,  24.75293438,  24.74797095,\n",
       "        24.74303409,  24.73812355,  24.73323908,  24.72838045,\n",
       "        24.72354742,  24.71873976,  24.71395722,  24.70919959,\n",
       "        24.70446665,  24.69975816,  24.69507392,  24.69041371,\n",
       "        24.68577731,  24.68116453,  24.67657515,  24.67200897,\n",
       "        24.66746579,  24.66294542,  24.65844766,  24.65397232,\n",
       "        24.64951922,  24.64508815,  24.64067895,  24.63629143,\n",
       "        24.63192541,  24.62758072,  24.62325718,  24.61895462,\n",
       "        24.61467287,  24.61041177,  24.60617114,  24.60195084,\n",
       "        24.59775069,  24.59357054,  24.58941023,  24.58526961,\n",
       "        24.58114853,  24.57704683,  24.57296437,  24.56890101,\n",
       "        24.56485658,  24.56083097,  24.55682402,  24.55283559,\n",
       "        24.54886555,  24.54491376,  24.54098009,  24.5370644 ,\n",
       "        24.53316657,  24.52928646,  24.52542395,  24.52157891,\n",
       "        24.51775122,  24.51394076,  24.5101474 ,  24.50637102,\n",
       "        24.5026115 ,  24.49886873,  24.4951426 ,  24.49143298,\n",
       "        24.48773976,  24.48406283,  24.48040209,  24.47675742,\n",
       "        24.47312871,  24.46951586,  24.46591876,  24.46233731,\n",
       "        24.45877141,  24.45522094,  24.45168582,  24.44816593,\n",
       "        24.44466119,  24.4411715 ,  24.43769675,  24.43423686,\n",
       "        24.43079172,  24.42736125,  24.42394535,  24.42054393,\n",
       "        24.4171569 ,  24.41378417,  24.41042566,  24.40708127,\n",
       "        24.40375091,  24.40043451,  24.39713197,  24.39384322,\n",
       "        24.39056817,  24.38730673,  24.38405883,  24.38082439,\n",
       "        24.37760331,  24.37439554,  24.37120098,  24.36801956,\n",
       "        24.3648512 ,  24.36169583,  24.35855337,  24.35542375,\n",
       "        24.35230689,  24.34920272,  24.34611117,  24.34303216,\n",
       "        24.33996562,  24.33691149,  24.3338697 ,  24.33084017,\n",
       "        24.32782283,  24.32481762,  24.32182448,  24.31884333,\n",
       "        24.31587411,  24.31291675,  24.30997119,  24.30703736,\n",
       "        24.3041152 ,  24.30120465,  24.29830565,  24.29541812,\n",
       "        24.29254202,  24.28967728,  24.28682384,  24.28398164,\n",
       "        24.28115062,  24.27833073,  24.27552189,  24.27272406,\n",
       "        24.26993718,  24.26716119,  24.26439604,  24.26164167,\n",
       "        24.25889801,  24.25616503,  24.25344266,  24.25073086,\n",
       "        24.24802955,  24.2453387 ,  24.24265826,  24.23998816,\n",
       "        24.23732835,  24.23467879,  24.23203942,  24.2294102 ,\n",
       "        24.22679107,  24.22418197,  24.22158288,  24.21899372,\n",
       "        24.21641446,  24.21384505,  24.21128543,  24.20873557,\n",
       "        24.2061954 ,  24.2036649 ,  24.201144  ,  24.19863267,\n",
       "        24.19613085,  24.19363851,  24.19115559,  24.18868205,\n",
       "        24.18621785,  24.18376294,  24.18131729,  24.17888083,\n",
       "        24.17645354,  24.17403537,  24.17162627,  24.16922621,\n",
       "        24.16683513,  24.16445301,  24.1620798 ,  24.15971545,\n",
       "        24.15735993,  24.15501319,  24.1526752 ,  24.15034591,\n",
       "        24.14802529,  24.14571329,  24.14340988,  24.14111502,\n",
       "        24.13882867,  24.13655078,  24.13428133,  24.13202027,\n",
       "        24.12976756,  24.12752318,  24.12528707,  24.12305921,\n",
       "        24.12083956,  24.11862808,  24.11642473,  24.11422948,\n",
       "        24.11204229,  24.10986313,  24.10769196,  24.10552875,\n",
       "        24.10337346,  24.10122606,  24.09908651,  24.09695478,\n",
       "        24.09483083,  24.09271463,  24.09060614,  24.08850535,\n",
       "        24.0864122 ,  24.08432666,  24.08224871,  24.08017832,\n",
       "        24.07811544,  24.07606005,  24.07401211,  24.0719716 ,\n",
       "        24.06993847,  24.06791271,  24.06589427,  24.06388313,\n",
       "        24.06187926,  24.05988263,  24.0578932 ,  24.05591094,\n",
       "        24.05393583,  24.05196783,  24.05000692,  24.04805306,\n",
       "        24.04610622,  24.04416639,  24.04223352,  24.04030758,\n",
       "        24.03838856,  24.03647641,  24.03457112,  24.03267265,\n",
       "        24.03078098,  24.02889607,  24.0270179 ,  24.02514645,\n",
       "        24.02328167,  24.02142356,  24.01957207,  24.01772718,\n",
       "        24.01588887,  24.01405711,  24.01223187,  24.01041312,\n",
       "        24.00860084,  24.00679501,  24.00499558,  24.00320255,\n",
       "        24.00141589,  23.99963556,  23.99786154,  23.99609381,\n",
       "        23.99433234,  23.99257711,  23.9908281 ,  23.98908526,\n",
       "        23.98734859,  23.98561806,  23.98389364,  23.98217531,\n",
       "        23.98046304,  23.97875681,  23.9770566 ,  23.97536238,\n",
       "        23.97367413,  23.97199182,  23.97031543,  23.96864494,\n",
       "        23.96698032,  23.96532156,  23.96366862,  23.96202149,\n",
       "        23.96038014,  23.95874455,  23.95711469,  23.95549055,\n",
       "        23.95387211,  23.95225933,  23.95065219,  23.94905069,\n",
       "        23.94745478,  23.94586446,  23.9442797 ,  23.94270047,\n",
       "        23.94112676,  23.93955855,  23.93799581,  23.93643852,\n",
       "        23.93488667,  23.93334022,  23.93179916,  23.93026347,\n",
       "        23.92873313,  23.92720812,  23.92568841,  23.92417399,\n",
       "        23.92266484,  23.92116093,  23.91966224,  23.91816876,\n",
       "        23.91668047,  23.91519734,  23.91371936,  23.9122465 ,\n",
       "        23.91077875,  23.90931609,  23.90785849,  23.90640594,\n",
       "        23.90495843,  23.90351592,  23.9020784 ,  23.90064585,\n",
       "        23.89921826,  23.8977956 ,  23.89637786,  23.89496501,\n",
       "        23.89355705,  23.89215394,  23.89075567,  23.88936223,\n",
       "        23.88797359,  23.88658974,  23.88521066,  23.88383633,\n",
       "        23.88246673,  23.88110185,  23.87974166,  23.87838616,\n",
       "        23.87703531,  23.87568911,  23.87434754,  23.87301058,\n",
       "        23.87167822,  23.87035043,  23.86902719,  23.8677085 ,\n",
       "        23.86639433,  23.86508468,  23.86377951,  23.86247881,\n",
       "        23.86118258,  23.85989078,  23.85860341,  23.85732045,\n",
       "        23.85604188,  23.85476769,  23.85349785,  23.85223236,\n",
       "        23.85097119,  23.84971434,  23.84846178,  23.8472135 ,\n",
       "        23.84596949,  23.84472972,  23.84349418,  23.84226286,\n",
       "        23.84103574,  23.83981281,  23.83859404,  23.83737944,\n",
       "        23.83616897,  23.83496262,  23.83376038,  23.83256224,\n",
       "        23.83136818,  23.83017818,  23.82899223,  23.82781032,\n",
       "        23.82663242,  23.82545853,  23.82428863,  23.8231227 ,\n",
       "        23.82196074,  23.82080272,  23.81964864,  23.81849847,\n",
       "        23.81735221,  23.81620983,  23.81507133,  23.8139367 ])"
      ]
     },
     "execution_count": 17,
     "metadata": {},
     "output_type": "execute_result"
    }
   ],
   "source": [
    "cost"
   ]
  },
  {
   "cell_type": "code",
   "execution_count": 18,
   "id": "b2fe536b",
   "metadata": {},
   "outputs": [
    {
     "data": {
      "text/plain": [
       "array([11.66744602, 29.29823325, 22.23668134, 24.27395642, 20.39907661,\n",
       "        2.8800143 , 29.46821953, 24.18397928, 18.53014688, 22.90684006,\n",
       "       24.29849241, 18.01147846, 18.40351257, 21.81226489, 43.45304703,\n",
       "       23.62090115, 24.21572008, 27.01882718, 20.00679751, 31.18222057,\n",
       "       23.46604605, 24.53865635, 33.85495138, 35.67994682, 32.02764799,\n",
       "       16.10100674, 22.311972  , 31.93168603, 24.89054703, 33.53932772,\n",
       "       17.27821247, 25.57933369, 23.53736876, 25.6770843 , 15.79376836,\n",
       "       28.8708216 , 25.87238604, 20.2555316 , 24.51363854,  9.65784431,\n",
       "        7.22669662, 28.42155242, 29.09913524, 20.49775087, 20.66599348,\n",
       "        2.42232404, 40.41458923, 25.96922813, 30.87201823, 17.61932145,\n",
       "       18.03183008, 40.42387901, 18.42166956, 20.26364658, 16.113841  ,\n",
       "       21.33138004, 18.43200243, 22.56907208, 13.7313373 , 17.82964126,\n",
       "       15.03175456, 29.18150697, 24.53825645, 25.54308534, 17.16279532,\n",
       "       16.09299409, 34.42711653, 17.52503044, 26.54826751, 22.72418174,\n",
       "       28.68839224, 26.7050288 , 17.91231686,  5.58021793, 36.55205237,\n",
       "       24.98093688, 29.26939201, 26.56721473, 16.71026374, 32.48730463,\n",
       "       19.75444387, 22.68393436, 21.85718393,  8.95160495, 17.75474414,\n",
       "       29.7569531 , 27.53302374,  5.68330012, 21.74702909, 20.31459956,\n",
       "       21.82413363, 20.3562266 , 20.66974582, 13.11363584, 19.77603605,\n",
       "       26.76963878, 39.99281121, 19.69036823, 33.11343929, 26.87784561,\n",
       "       27.15165231, 22.48198561, 25.26192246, 30.53502833, 17.15741065,\n",
       "       25.66698704, 21.38029371, 36.65767337, 22.47616221, 16.63457338,\n",
       "       27.44713591, -0.71972767, 13.52154679, 15.29950785, 35.98757848,\n",
       "       20.08958865, 21.59555555, 25.09852341, 21.64378653, 18.87809392,\n",
       "       13.97876413, 34.6675807 , 22.64081887, 24.78817378, 18.41539442,\n",
       "       20.38424227, 14.2254491 ])"
      ]
     },
     "execution_count": 18,
     "metadata": {},
     "output_type": "execute_result"
    }
   ],
   "source": [
    "test_results"
   ]
  },
  {
   "cell_type": "code",
   "execution_count": 19,
   "id": "4000a346",
   "metadata": {},
   "outputs": [
    {
     "data": {
      "text/plain": [
       "(array([719], dtype=int64),)"
      ]
     },
     "execution_count": 19,
     "metadata": {},
     "output_type": "execute_result"
    }
   ],
   "source": [
    "np.where(cost == np.amin(cost))"
   ]
  },
  {
   "cell_type": "code",
   "execution_count": 20,
   "id": "c3d7a28a",
   "metadata": {},
   "outputs": [
    {
     "data": {
      "text/plain": [
       "23.813936697034446"
      ]
     },
     "execution_count": 20,
     "metadata": {},
     "output_type": "execute_result"
    }
   ],
   "source": [
    "np.amin(cost)"
   ]
  },
  {
   "cell_type": "code",
   "execution_count": null,
   "id": "fb954fcd",
   "metadata": {},
   "outputs": [],
   "source": []
  }
 ],
 "metadata": {
  "kernelspec": {
   "display_name": "Python 3 (ipykernel)",
   "language": "python",
   "name": "python3"
  },
  "language_info": {
   "codemirror_mode": {
    "name": "ipython",
    "version": 3
   },
   "file_extension": ".py",
   "mimetype": "text/x-python",
   "name": "python",
   "nbconvert_exporter": "python",
   "pygments_lexer": "ipython3",
   "version": "3.9.7"
  }
 },
 "nbformat": 4,
 "nbformat_minor": 5
}
